{
 "cells": [
  {
   "cell_type": "markdown",
   "metadata": {},
   "source": [
    "![ieseg logo](./img/ieseg.png)\n",
    "\n",
    "#### MBD 2021-2022\n",
    "# Statistical & Machine Learning Approaches for Marketing\n",
    "\n",
    "## Section 5: Support Vector Machine"
   ]
  },
  {
   "cell_type": "markdown",
   "metadata": {},
   "source": [
    "### 1. Import all required libraries and datasets"
   ]
  },
  {
   "cell_type": "code",
   "execution_count": 3,
   "metadata": {},
   "outputs": [
    {
     "name": "stderr",
     "output_type": "stream",
     "text": [
      "Warning message:\n",
      "\"package 'mlr' was built under R version 3.6.3\""
     ]
    },
    {
     "ename": "ERROR",
     "evalue": "Error: package or namespace load failed for 'mlr' in loadNamespace(j <- i[[1L]], c(lib.loc, .libPaths()), versionCheck = vI[[j]]):\n there is no package called 'pillar'\n",
     "output_type": "error",
     "traceback": [
      "Error: package or namespace load failed for 'mlr' in loadNamespace(j <- i[[1L]], c(lib.loc, .libPaths()), versionCheck = vI[[j]]):\n there is no package called 'pillar'\nTraceback:\n",
      "1. library(mlr)",
      "2. tryCatch({\n .     attr(package, \"LibPath\") <- which.lib.loc\n .     ns <- loadNamespace(package, lib.loc)\n .     env <- attachNamespace(ns, pos = pos, deps, exclude, include.only)\n . }, error = function(e) {\n .     P <- if (!is.null(cc <- conditionCall(e))) \n .         paste(\" in\", deparse(cc)[1L])\n .     else \"\"\n .     msg <- gettextf(\"package or namespace load failed for %s%s:\\n %s\", \n .         sQuote(package), P, conditionMessage(e))\n .     if (logical.return) \n .         message(paste(\"Error:\", msg), domain = NA)\n .     else stop(msg, call. = FALSE, domain = NA)\n . })",
      "3. tryCatchList(expr, classes, parentenv, handlers)",
      "4. tryCatchOne(expr, names, parentenv, handlers[[1L]])",
      "5. value[[3L]](cond)",
      "6. stop(msg, call. = FALSE, domain = NA)"
     ]
    }
   ],
   "source": [
    "# Set environment params\n",
    "Sys.setenv(LANG='en')  # English\n",
    "\n",
    "# Import libraries\n",
    "library(data.table)  # Data manipulate\n",
    "library(mlr)         # ML toolkit\n",
    "library(caret)       # ML toolkit\n",
    "library(ggplot2)     # Visualization\n",
    "library(pROC)        # AUC, ROC\n",
    "library(e1071)       # SVM\n",
    "\n",
    "# Import data\n",
    "library(ISLR)      # Data from the course book\n",
    "library(MASS)      # Boston housing dataset\n",
    "library(datasets)  # US crime dataset\n",
    "\n",
    "# Resize plot\n",
    "library(repr)  # String and binary representations\n",
    "#options(repr.plot.width=4, repr.plot.height=4)\n",
    "#par(cex.lab=0.8, cex.axis=0.8, cex.main=0.8, cex.sub=0.8)"
   ]
  },
  {
   "cell_type": "code",
   "execution_count": 4,
   "metadata": {},
   "outputs": [
    {
     "name": "stdout",
     "output_type": "stream",
     "text": [
      "\n",
      "  There is a binary version available but the source version is later:\n",
      "      binary source needs_compilation\n",
      "e1071  1.7-6  1.7-9              TRUE\n",
      "\n",
      "  Binaries will be installed\n",
      "package 'e1071' successfully unpacked and MD5 sums checked\n",
      "\n",
      "The downloaded binary packages are in\n",
      "\tC:\\Users\\mmarcosiglesias\\AppData\\Local\\Temp\\Rtmp4wczBB\\downloaded_packages\n"
     ]
    }
   ],
   "source": [
    "install.packages('e1071')"
   ]
  },
  {
   "cell_type": "markdown",
   "metadata": {},
   "source": [
    "### 2. Hyperplane separating"
   ]
  },
  {
   "cell_type": "code",
   "execution_count": 5,
   "metadata": {},
   "outputs": [],
   "source": [
    "# Generate sample data for 2-classes, separable\n",
    "set.seed(1)\n",
    "x <- matrix(rnorm(100 * 2), ncol=2)  # X1, X2\n",
    "y <- c(rep(-1, 10), rep(1, 10))  # Class\n",
    "x[y == 1, ] <- x[y == 1, ] + 3.5  # Moving this data group to the top-right corner"
   ]
  },
  {
   "cell_type": "code",
   "execution_count": 8,
   "metadata": {},
   "outputs": [
    {
     "data": {
      "image/png": "[encoded data removed]",
      "text/plain": [
       "plot without title"
      ]
     },
     "metadata": {
      "image/png": {
       "height": 390,
       "width": 360
      }
     },
     "output_type": "display_data"
    }
   ],
   "source": [
    "# Plot the sample data\n",
    "options(repr.plot.width=6, repr.plot.height=6.5)\n",
    "plot(x[, c(1, 2)], col=(3 - y), pch=19, xlab='X1', ylab='X2')"
   ]
  },
  {
   "cell_type": "code",
   "execution_count": 6,
   "metadata": {},
   "outputs": [
    {
     "data": {
      "image/png": "[encoded data removed]",
      "text/plain": [
       "plot without title"
      ]
     },
     "metadata": {},
     "output_type": "display_data"
    }
   ],
   "source": [
    "# Plot the sample data with some possible separating hyperplanes\n",
    "options(repr.plot.width=6, repr.plot.height=6.5)\n",
    "plot(x[, c(1, 2)], col=(3 - y), pch=19, xlab='X1', ylab='X2')\n",
    "abline(a=3.3, b=-1.0, col='red')  # Decision boudary 1, a = beta0, b = beta1"
   ]
  },
  {
   "cell_type": "markdown",
   "metadata": {},
   "source": [
    "**Example 1:** Modify the abline() function to find and plot 2 other separating hyperplanes."
   ]
  },
  {
   "cell_type": "code",
   "execution_count": 7,
   "metadata": {},
   "outputs": [
    {
     "data": {
      "image/png": "[encoded data removed]",
      "text/plain": [
       "plot without title"
      ]
     },
     "metadata": {},
     "output_type": "display_data"
    }
   ],
   "source": [
    "# Plot the sample data with some possible separating hyperplanes\n",
    "options(repr.plot.width=6, repr.plot.height=6.5)\n",
    "plot(x[, c(1, 2)], col=(3 - y), pch=19, xlab='X1', ylab='X2')\n",
    "abline(a=3.3, b=-1.0, col='red')  # Decision boudary 1\n",
    "abline(a=3.1, b=-1.0, col='blue')  # Decision boudary 2\n",
    "abline(a=3.6, b=-1.2, col='black')  # Decision boudary 3"
   ]
  },
  {
   "cell_type": "markdown",
   "metadata": {},
   "source": [
    "### 3. Maximal Margin Classifier (hard margin)"
   ]
  },
  {
   "cell_type": "code",
   "execution_count": 11,
   "metadata": {},
   "outputs": [
    {
     "data": {
      "image/png": "[encoded data removed]",
      "text/plain": [
       "plot without title"
      ]
     },
     "metadata": {
      "image/png": {
       "height": 390,
       "width": 360
      }
     },
     "output_type": "display_data"
    }
   ],
   "source": [
    "# Plot the sample data\n",
    "options(repr.plot.width=6, repr.plot.height=6.5)\n",
    "plot(x[, c(1, 2)], col=(3 - y), pch=19, xlab='X1', ylab='X2')"
   ]
  },
  {
   "cell_type": "code",
   "execution_count": 12,
   "metadata": {},
   "outputs": [],
   "source": [
    "# Train the Maximal Margin Classifier model\n",
    "dat <- data.frame(x=x, y=as.factor(y))\n",
    "md_maxmargin <- svm(y ~ ., data=dat, kernel='linear', cost=1e5, scale=F)  # Very high cost, so no miss-classifying toleration"
   ]
  },
  {
   "cell_type": "code",
   "execution_count": 13,
   "metadata": {},
   "outputs": [
    {
     "name": "stdout",
     "output_type": "stream",
     "text": [
      "[1] \"Intercept = 4.15057334330742\"\n",
      "[1] \"Coefficent = -1.07789559545691 -1.32137148791704\"\n"
     ]
    }
   ],
   "source": [
    "# Extract the coefficients of decision boudary\n",
    "beta0 <- -md_maxmargin$rho\n",
    "beta <- drop(t(md_maxmargin$coefs) %*% (x[md_maxmargin$index, ]))\n",
    "\n",
    "print(paste('Intercept =', beta0))\n",
    "print(paste('Coefficent =', paste(beta, collapse=' ')))"
   ]
  },
  {
   "cell_type": "code",
   "execution_count": 14,
   "metadata": {},
   "outputs": [
    {
     "data": {
      "image/png": "[encoded data removed]",
      "text/plain": [
       "plot without title"
      ]
     },
     "metadata": {
      "image/png": {
       "height": 390,
       "width": 360
      }
     },
     "output_type": "display_data"
    }
   ],
   "source": [
    "# Plot the sample data with the separating hyperplane\n",
    "\n",
    "# Plot data points\n",
    "options(repr.plot.width=6, repr.plot.height=6.5)\n",
    "plot(x[, c(1, 2)], col=(3 - y), pch=19, xlab='X1', ylab='X2')\n",
    "\n",
    "# Plot the SVC\n",
    "abline(-beta0 / beta[2], -beta[1] / beta[2])  # Decision boudary\n",
    "abline((-beta0 - 1) / beta[2], -beta[1] / beta[2], lty=2)  # Upper margin\n",
    "abline((-beta0 + 1) / beta[2], -beta[1] / beta[2], lty=2)  # Lower margin\n",
    "\n",
    "# Plot the support vectors\n",
    "points(x[md_maxmargin$index, c(1, 2)], cex=2, pch=1)"
   ]
  },
  {
   "cell_type": "markdown",
   "metadata": {},
   "source": [
    "### 4. Support Vector Classifier (soft margin)"
   ]
  },
  {
   "cell_type": "code",
   "execution_count": 15,
   "metadata": {},
   "outputs": [],
   "source": [
    "# Train the Maximal Margin Classifier model\n",
    "dat <- data.frame(x=x, y=as.factor(y))\n",
    "md_svc <- svm(y ~ ., data=dat, kernel='linear', cost=0.1, scale=F)  # Low cost, so allowing some miss-classifying"
   ]
  },
  {
   "cell_type": "code",
   "execution_count": 16,
   "metadata": {},
   "outputs": [
    {
     "name": "stdout",
     "output_type": "stream",
     "text": [
      "[1] \"Intercept = 2.32012649925928\"\n",
      "[1] \"Coefficent = -0.603472591610074 -0.625731291063094\"\n"
     ]
    }
   ],
   "source": [
    "# Extract the coefficients of decision boudary\n",
    "beta0 <- -md_svc$rho\n",
    "beta <- drop(t(md_svc$coefs) %*% (x[md_svc$index, ]))\n",
    "\n",
    "print(paste('Intercept =', beta0))\n",
    "print(paste('Coefficent =', paste(beta, collapse=' ')))"
   ]
  },
  {
   "cell_type": "code",
   "execution_count": 17,
   "metadata": {},
   "outputs": [
    {
     "data": {
      "image/png": "[encoded data removed]",
      "text/plain": [
       "plot without title"
      ]
     },
     "metadata": {
      "image/png": {
       "height": 390,
       "width": 360
      }
     },
     "output_type": "display_data"
    }
   ],
   "source": [
    "# Plot the sample data with the separating hyperplane\n",
    "\n",
    "# Plot data points\n",
    "options(repr.plot.width=6, repr.plot.height=6.5)\n",
    "plot(x[, c(1, 2)], col=(3 - y), pch=19, xlab='X1', ylab='X2')\n",
    "\n",
    "# Plot the SVC\n",
    "abline(-beta0 / beta[2], -beta[1] / beta[2])  # Decision boudary\n",
    "abline((-beta0 - 1) / beta[2], -beta[1] / beta[2], lty=2)  # Upper margin\n",
    "abline((-beta0 + 1) / beta[2], -beta[1] / beta[2], lty=2)  # Lower margin\n",
    "\n",
    "# Plot the support vectors\n",
    "points(x[md_svc$index, c(1, 2)], cex=2, pch=1)"
   ]
  },
  {
   "cell_type": "markdown",
   "metadata": {},
   "source": [
    "## Lab: Support Vector Machines\n",
    "\n",
    "1. Support Vector Classifier (SVC)\n",
    "2. Support Vector Machines (SVM)\n",
    "3. SVM with multiple classes\n",
    "4. Gene Expression Data"
   ]
  },
  {
   "cell_type": "markdown",
   "metadata": {},
   "source": [
    "### Lab 1: Support Vector Classifier\n",
    "\n",
    "Dataset 1: Non-linear separable data\n",
    "\n",
    "- Q1: Fit Support Vector Classifier (SVC, soft margin) to the data.\n",
    "- Q2: Tune the cost parameter. What is the best value?\n",
    "\n",
    "Dataset 2: Linear separable data\n",
    "\n",
    "- Q3: Fit a Maximal Margin Classifier (hard margin) to the data.\n",
    "- Q4: Fit a Support Vector Classifier (soft margin) to the data."
   ]
  },
  {
   "cell_type": "markdown",
   "metadata": {},
   "source": [
    "**Dataset 1: Non-linear separable data**"
   ]
  },
  {
   "cell_type": "code",
   "execution_count": 18,
   "metadata": {},
   "outputs": [],
   "source": [
    "# Load require libraries\n",
    "library(e1071)  # SVM"
   ]
  },
  {
   "cell_type": "code",
   "execution_count": 19,
   "metadata": {},
   "outputs": [],
   "source": [
    "# Generate sample data for 2-classes\n",
    "set.seed(1)\n",
    "x <- matrix(rnorm(20 * 2), ncol=2)\n",
    "y <- c(rep(-1, 10), rep(1, 10))\n",
    "x[y == 1, ] <- x[y == 1, ] + 1  # Moving this data group to the top-right corner"
   ]
  },
  {
   "cell_type": "code",
   "execution_count": 20,
   "metadata": {},
   "outputs": [
    {
     "data": {
      "image/png": "[encoded data removed]",
      "text/plain": [
       "plot without title"
      ]
     },
     "metadata": {
      "image/png": {
       "height": 390,
       "width": 360
      }
     },
     "output_type": "display_data"
    }
   ],
   "source": [
    "# Plot the sample data\n",
    "options(repr.plot.width=6, repr.plot.height=6.5)\n",
    "plot(x[, c(2, 1)], col=(3 - y), pch=19, xlab='X2', ylab='X1')"
   ]
  },
  {
   "cell_type": "markdown",
   "metadata": {},
   "source": [
    "**Q1: Fit Support Vector Classifier (SVC, soft margin) to the data.**"
   ]
  },
  {
   "cell_type": "code",
   "execution_count": 21,
   "metadata": {},
   "outputs": [],
   "source": [
    "# Prepare data to fit the model\n",
    "dat <- data.frame(x=x, y=as.factor(y))\n",
    "\n",
    "# Fit Support Vector Classifier (SVM with linear kernel)\n",
    "md_svc <- svm(y ~ ., data=dat, kernel='linear', cost=10, scale=F)"
   ]
  },
  {
   "cell_type": "code",
   "execution_count": 22,
   "metadata": {},
   "outputs": [
    {
     "data": {
      "image/png": "[encoded data removed]",
      "text/plain": [
       "Plot with title \"SVM classification plot\""
      ]
     },
     "metadata": {
      "image/png": {
       "height": 390,
       "width": 420
      }
     },
     "output_type": "display_data"
    }
   ],
   "source": [
    "# Plot the model result\n",
    "options(repr.plot.width=7, repr.plot.height=6.5)\n",
    "plot(md_svc, dat, symbolPalette=rainbow(4))"
   ]
  },
  {
   "cell_type": "code",
   "execution_count": 23,
   "metadata": {},
   "outputs": [
    {
     "data": {
      "text/plain": [
       "\n",
       "Call:\n",
       "svm(formula = y ~ ., data = dat, kernel = \"linear\", cost = 10, scale = F)\n",
       "\n",
       "\n",
       "Parameters:\n",
       "   SVM-Type:  C-classification \n",
       " SVM-Kernel:  linear \n",
       "       cost:  10 \n",
       "\n",
       "Number of Support Vectors:  7\n",
       "\n",
       " ( 4 3 )\n",
       "\n",
       "\n",
       "Number of Classes:  2 \n",
       "\n",
       "Levels: \n",
       " -1 1\n",
       "\n",
       "\n"
      ]
     },
     "metadata": {},
     "output_type": "display_data"
    }
   ],
   "source": [
    "# Summary the model\n",
    "summary(md_svc)"
   ]
  },
  {
   "cell_type": "code",
   "execution_count": 24,
   "metadata": {},
   "outputs": [
    {
     "data": {
      "text/html": [
       "7"
      ],
      "text/latex": [
       "7"
      ],
      "text/markdown": [
       "7"
      ],
      "text/plain": [
       "[1] 7"
      ]
     },
     "metadata": {},
     "output_type": "display_data"
    },
    {
     "data": {
      "text/html": [
       "<style>\n",
       ".list-inline {list-style: none; margin:0; padding: 0}\n",
       ".list-inline>li {display: inline-block}\n",
       ".list-inline>li:not(:last-child)::after {content: \"\\00b7\"; padding: 0 .5ex}\n",
       "</style>\n",
       "<ol class=list-inline><li>1</li><li>2</li><li>5</li><li>7</li><li>14</li><li>16</li><li>17</li></ol>\n"
      ],
      "text/latex": [
       "\\begin{enumerate*}\n",
       "\\item 1\n",
       "\\item 2\n",
       "\\item 5\n",
       "\\item 7\n",
       "\\item 14\n",
       "\\item 16\n",
       "\\item 17\n",
       "\\end{enumerate*}\n"
      ],
      "text/markdown": [
       "1. 1\n",
       "2. 2\n",
       "3. 5\n",
       "4. 7\n",
       "5. 14\n",
       "6. 16\n",
       "7. 17\n",
       "\n",
       "\n"
      ],
      "text/plain": [
       "[1]  1  2  5  7 14 16 17"
      ]
     },
     "metadata": {},
     "output_type": "display_data"
    }
   ],
   "source": [
    "# Show the index of the support vectors\n",
    "length(md_svc$index)\n",
    "md_svc$index"
   ]
  },
  {
   "cell_type": "code",
   "execution_count": 25,
   "metadata": {},
   "outputs": [
    {
     "name": "stdout",
     "output_type": "stream",
     "text": [
      "[1] \"Intercept = 1.50670652346111\"\n",
      "[1] \"Coefficent = -1.55554715849029 -1.61153393128807\"\n"
     ]
    }
   ],
   "source": [
    "# Extract the coefficients of decision boudary\n",
    "beta0 <- -md_svc$rho\n",
    "beta <- drop(t(md_svc$coefs) %*% (x[md_svc$index, ]))\n",
    "\n",
    "print(paste('Intercept =', beta0))\n",
    "print(paste('Coefficent =', paste(beta, collapse=' ')))"
   ]
  },
  {
   "cell_type": "code",
   "execution_count": 26,
   "metadata": {},
   "outputs": [
    {
     "data": {
      "image/png": "[encoded data removed]",
      "text/plain": [
       "plot without title"
      ]
     },
     "metadata": {
      "image/png": {
       "height": 390,
       "width": 360
      }
     },
     "output_type": "display_data"
    }
   ],
   "source": [
    "# Plot the SVC model result\n",
    "\n",
    "# Plot data points\n",
    "options(repr.plot.width=6, repr.plot.height=6.5)\n",
    "plot(x[, c(2, 1)], col=(3 - y), pch=19, xlab='X2', ylab='X1')\n",
    "\n",
    "# Plot the SVC\n",
    "abline(-beta0 / beta[2], -beta[1] / beta[2])  # Decision boudary\n",
    "abline((-beta0 - 1) / beta[2], -beta[1] / beta[2], lty=2)  # Upper margin\n",
    "abline((-beta0 + 1) / beta[2], -beta[1] / beta[2], lty=2)  # Lower margin\n",
    "\n",
    "# Plot the support vectors\n",
    "points(x[md_svc$index, c(2, 1)], cex=2, pch=1)"
   ]
  },
  {
   "cell_type": "markdown",
   "metadata": {},
   "source": [
    "**Q2: Tune the cost parameter. What is the best value?**"
   ]
  },
  {
   "cell_type": "code",
   "execution_count": 27,
   "metadata": {},
   "outputs": [],
   "source": [
    "# Fit Support Vector Classifier (SVM with linear kernel) with smaler cost\n",
    "md_svc <- svm(y ~ ., data=dat, kernel='linear', cost=0.1, scale=F)"
   ]
  },
  {
   "cell_type": "code",
   "execution_count": 28,
   "metadata": {
    "scrolled": false
   },
   "outputs": [
    {
     "data": {
      "image/png": "[encoded data removed]",
      "text/plain": [
       "Plot with title \"SVM classification plot\""
      ]
     },
     "metadata": {
      "image/png": {
       "height": 390,
       "width": 420
      }
     },
     "output_type": "display_data"
    }
   ],
   "source": [
    "# Plot the new model\n",
    "options(repr.plot.width=7, repr.plot.height=6.5)\n",
    "plot(md_svc, dat, symbolPalette=rainbow(4))"
   ]
  },
  {
   "cell_type": "code",
   "execution_count": 29,
   "metadata": {},
   "outputs": [
    {
     "data": {
      "text/html": [
       "16"
      ],
      "text/latex": [
       "16"
      ],
      "text/markdown": [
       "16"
      ],
      "text/plain": [
       "[1] 16"
      ]
     },
     "metadata": {},
     "output_type": "display_data"
    },
    {
     "data": {
      "text/html": [
       "<style>\n",
       ".list-inline {list-style: none; margin:0; padding: 0}\n",
       ".list-inline>li {display: inline-block}\n",
       ".list-inline>li:not(:last-child)::after {content: \"\\00b7\"; padding: 0 .5ex}\n",
       "</style>\n",
       "<ol class=list-inline><li>1</li><li>2</li><li>3</li><li>4</li><li>5</li><li>7</li><li>9</li><li>10</li><li>12</li><li>13</li><li>14</li><li>15</li><li>16</li><li>17</li><li>18</li><li>20</li></ol>\n"
      ],
      "text/latex": [
       "\\begin{enumerate*}\n",
       "\\item 1\n",
       "\\item 2\n",
       "\\item 3\n",
       "\\item 4\n",
       "\\item 5\n",
       "\\item 7\n",
       "\\item 9\n",
       "\\item 10\n",
       "\\item 12\n",
       "\\item 13\n",
       "\\item 14\n",
       "\\item 15\n",
       "\\item 16\n",
       "\\item 17\n",
       "\\item 18\n",
       "\\item 20\n",
       "\\end{enumerate*}\n"
      ],
      "text/markdown": [
       "1. 1\n",
       "2. 2\n",
       "3. 3\n",
       "4. 4\n",
       "5. 5\n",
       "6. 7\n",
       "7. 9\n",
       "8. 10\n",
       "9. 12\n",
       "10. 13\n",
       "11. 14\n",
       "12. 15\n",
       "13. 16\n",
       "14. 17\n",
       "15. 18\n",
       "16. 20\n",
       "\n",
       "\n"
      ],
      "text/plain": [
       " [1]  1  2  3  4  5  7  9 10 12 13 14 15 16 17 18 20"
      ]
     },
     "metadata": {},
     "output_type": "display_data"
    }
   ],
   "source": [
    "# More support vectors (the margin is wider)\n",
    "length(md_svc$index)\n",
    "md_svc$index"
   ]
  },
  {
   "cell_type": "code",
   "execution_count": 30,
   "metadata": {},
   "outputs": [],
   "source": [
    "# Tuning parameter: cost\n",
    "set.seed(1)\n",
    "tune_svc <- tune(svm, y ~ ., data=dat, kernel='linear',\n",
    "                 ranges=list(cost=c(0.001, 0.01, 0.1, 1.5, 10, 100)))"
   ]
  },
  {
   "cell_type": "code",
   "execution_count": 31,
   "metadata": {},
   "outputs": [
    {
     "data": {
      "text/plain": [
       "\n",
       "Parameter tuning of 'svm':\n",
       "\n",
       "- sampling method: 10-fold cross validation \n",
       "\n",
       "- best parameters:\n",
       " cost\n",
       "  0.1\n",
       "\n",
       "- best performance: 0.05 \n",
       "\n",
       "- Detailed performance results:\n",
       "     cost error dispersion\n",
       "1   0.001  0.55  0.4377975\n",
       "2   0.010  0.55  0.4377975\n",
       "3   0.100  0.05  0.1581139\n",
       "4   1.500  0.15  0.2415229\n",
       "5  10.000  0.15  0.2415229\n",
       "6 100.000  0.15  0.2415229\n"
      ]
     },
     "metadata": {},
     "output_type": "display_data"
    }
   ],
   "source": [
    "# Summary the tuned models\n",
    "summary(tune_svc)"
   ]
  },
  {
   "cell_type": "code",
   "execution_count": 32,
   "metadata": {},
   "outputs": [
    {
     "data": {
      "text/plain": [
       "\n",
       "Call:\n",
       "best.tune(method = svm, train.x = y ~ ., data = dat, ranges = list(cost = c(0.001, \n",
       "    0.01, 0.1, 1.5, 10, 100)), kernel = \"linear\")\n",
       "\n",
       "\n",
       "Parameters:\n",
       "   SVM-Type:  C-classification \n",
       " SVM-Kernel:  linear \n",
       "       cost:  0.1 \n",
       "\n",
       "Number of Support Vectors:  16\n",
       "\n",
       " ( 8 8 )\n",
       "\n",
       "\n",
       "Number of Classes:  2 \n",
       "\n",
       "Levels: \n",
       " -1 1\n",
       "\n",
       "\n"
      ]
     },
     "metadata": {},
     "output_type": "display_data"
    }
   ],
   "source": [
    "# Show the best model\n",
    "best_svc <- tune_svc$best.model\n",
    "summary(best_svc)"
   ]
  },
  {
   "cell_type": "code",
   "execution_count": 33,
   "metadata": {},
   "outputs": [],
   "source": [
    "# Prepare the test data\n",
    "xtest <- matrix(rnorm(20 * 2), ncol=2)\n",
    "ytest <- sample(c(-1, 1), 20, rep=T)\n",
    "xtest[ytest == 1, ] <- xtest[ytest == 1, ] + 1\n",
    "testdat <- data.frame(x=xtest, y=as.factor(ytest))"
   ]
  },
  {
   "cell_type": "code",
   "execution_count": 34,
   "metadata": {},
   "outputs": [
    {
     "data": {
      "text/plain": [
       "       truth\n",
       "predict -1 1\n",
       "     -1  9 1\n",
       "     1   2 8"
      ]
     },
     "metadata": {},
     "output_type": "display_data"
    }
   ],
   "source": [
    "# Make prediction using the best tuned model\n",
    "ypred <- predict(best_svc, testdat)\n",
    "\n",
    "# Evaluation\n",
    "table(predict=ypred, truth=testdat$y)"
   ]
  },
  {
   "cell_type": "code",
   "execution_count": 35,
   "metadata": {},
   "outputs": [
    {
     "data": {
      "text/plain": [
       "       truth\n",
       "predict -1  1\n",
       "     -1 11  6\n",
       "     1   0  3"
      ]
     },
     "metadata": {},
     "output_type": "display_data"
    }
   ],
   "source": [
    "# Make prediction using other SVC model\n",
    "md_svc <- svm(y ~ ., data=dat, kernel='linear', cost=0.01, scale=F)\n",
    "ypred <- predict(md_svc, testdat)\n",
    "table(predict=ypred, truth=testdat$y)"
   ]
  },
  {
   "cell_type": "markdown",
   "metadata": {},
   "source": [
    "**Dataset 2: Linearly separable data**"
   ]
  },
  {
   "cell_type": "code",
   "execution_count": 36,
   "metadata": {},
   "outputs": [],
   "source": [
    "# Generate linearly separable sample data for 2-classes\n",
    "set.seed(1)\n",
    "x <- matrix(rnorm(20 * 2), ncol=2)\n",
    "y <- c(rep(-1, 10), rep(1, 10))\n",
    "x[y == 1, ] <- x[y == 1, ] + 1.5  # Moving this data group to the top-right corner"
   ]
  },
  {
   "cell_type": "code",
   "execution_count": 37,
   "metadata": {},
   "outputs": [
    {
     "data": {
      "image/png": "[encoded data removed]",
      "text/plain": [
       "plot without title"
      ]
     },
     "metadata": {
      "image/png": {
       "height": 390,
       "width": 360
      }
     },
     "output_type": "display_data"
    }
   ],
   "source": [
    "# Plot the data\n",
    "options(repr.plot.width=6, repr.plot.height=6.5)\n",
    "plot(x[, c(2, 1)], col=(y + 5)/2, pch=19, xlab='X2', ylab='X1')"
   ]
  },
  {
   "cell_type": "markdown",
   "metadata": {},
   "source": [
    "**Q3: Fit a Maximal Margin Classifier (hard margin) to the data.**"
   ]
  },
  {
   "cell_type": "code",
   "execution_count": 38,
   "metadata": {},
   "outputs": [
    {
     "data": {
      "text/plain": [
       "\n",
       "Call:\n",
       "svm(formula = y ~ ., data = dat, kernel = \"linear\", cost = 1e+05)\n",
       "\n",
       "\n",
       "Parameters:\n",
       "   SVM-Type:  C-classification \n",
       " SVM-Kernel:  linear \n",
       "       cost:  1e+05 \n",
       "\n",
       "Number of Support Vectors:  3\n",
       "\n",
       " ( 1 2 )\n",
       "\n",
       "\n",
       "Number of Classes:  2 \n",
       "\n",
       "Levels: \n",
       " -1 1\n",
       "\n",
       "\n"
      ]
     },
     "metadata": {},
     "output_type": "display_data"
    }
   ],
   "source": [
    "# Prepare data for SVC model\n",
    "dat <- data.frame(x=x, y=as.factor(y))\n",
    "\n",
    "# Fit the SVC model\n",
    "md_svc <- svm(y ~ ., data=dat, kernel='linear', cost=1e5)  # Very high cost\n",
    "summary(md_svc)"
   ]
  },
  {
   "cell_type": "code",
   "execution_count": 39,
   "metadata": {},
   "outputs": [
    {
     "data": {
      "image/png": "[encoded data removed]",
      "text/plain": [
       "Plot with title \"SVM classification plot\""
      ]
     },
     "metadata": {
      "image/png": {
       "height": 390,
       "width": 420
      }
     },
     "output_type": "display_data"
    }
   ],
   "source": [
    "# Plot the model (no trainig error)\n",
    "options(repr.plot.width=7, repr.plot.height=6.5)\n",
    "plot(md_svc, dat, symbolPalette=rainbow(4))"
   ]
  },
  {
   "cell_type": "code",
   "execution_count": 40,
   "metadata": {},
   "outputs": [
    {
     "data": {
      "text/plain": [
       "       truth\n",
       "predict -1  1\n",
       "     -1 10  0\n",
       "     1   0 10"
      ]
     },
     "metadata": {},
     "output_type": "display_data"
    }
   ],
   "source": [
    "# Check training error: no training error\n",
    "ypred <- predict(md_svc, dat)\n",
    "table(predict=ypred, truth=dat$y)"
   ]
  },
  {
   "cell_type": "code",
   "execution_count": 41,
   "metadata": {},
   "outputs": [
    {
     "data": {
      "text/plain": [
       "       truth\n",
       "predict -1 1\n",
       "     -1  9 4\n",
       "     1   2 5"
      ]
     },
     "metadata": {},
     "output_type": "display_data"
    }
   ],
   "source": [
    "# Check test error\n",
    "ypred <- predict(md_svc, testdat)\n",
    "table(predict=ypred, truth=testdat$y)"
   ]
  },
  {
   "cell_type": "markdown",
   "metadata": {},
   "source": [
    "**Q4: Fit a Support Vector Classifier (soft margin) to the data.**"
   ]
  },
  {
   "cell_type": "code",
   "execution_count": 42,
   "metadata": {},
   "outputs": [
    {
     "data": {
      "text/plain": [
       "\n",
       "Call:\n",
       "svm(formula = y ~ ., data = dat, kernel = \"linear\", cost = 1)\n",
       "\n",
       "\n",
       "Parameters:\n",
       "   SVM-Type:  C-classification \n",
       " SVM-Kernel:  linear \n",
       "       cost:  1 \n",
       "\n",
       "Number of Support Vectors:  7\n",
       "\n",
       " ( 4 3 )\n",
       "\n",
       "\n",
       "Number of Classes:  2 \n",
       "\n",
       "Levels: \n",
       " -1 1\n",
       "\n",
       "\n"
      ]
     },
     "metadata": {},
     "output_type": "display_data"
    },
    {
     "data": {
      "image/png": "[encoded data removed]",
      "text/plain": [
       "Plot with title \"SVM classification plot\""
      ]
     },
     "metadata": {
      "image/png": {
       "height": 390,
       "width": 420
      }
     },
     "output_type": "display_data"
    }
   ],
   "source": [
    "# Fit new SVC model with smaller cost\n",
    "md_svc <- svm(y ~ ., data=dat, kernel='linear', cost=1)\n",
    "summary(md_svc)\n",
    "\n",
    "# Plot the new model\n",
    "options(repr.plot.width=7, repr.plot.height=6.5)\n",
    "plot(md_svc, dat, symbolPalette=rainbow(4))"
   ]
  },
  {
   "cell_type": "code",
   "execution_count": 43,
   "metadata": {},
   "outputs": [
    {
     "data": {
      "text/plain": [
       "       truth\n",
       "predict -1 1\n",
       "     -1  9 2\n",
       "     1   2 7"
      ]
     },
     "metadata": {},
     "output_type": "display_data"
    }
   ],
   "source": [
    "# Check test error (better than large cost)\n",
    "ypred <- predict(md_svc, testdat)\n",
    "table(predict=ypred, truth=testdat$y)"
   ]
  },
  {
   "cell_type": "markdown",
   "metadata": {},
   "source": [
    "### Lab 2: Support Vector Machines (non-linear kernel)"
   ]
  },
  {
   "cell_type": "markdown",
   "metadata": {},
   "source": [
    "**2.1. SVM with radial kernel**"
   ]
  },
  {
   "cell_type": "code",
   "execution_count": 44,
   "metadata": {},
   "outputs": [],
   "source": [
    "# Generate some data\n",
    "set.seed(1)\n",
    "x <- matrix(rnorm(200 * 2), ncol=2)\n",
    "\n",
    "# Create 3 group of data by shifting 2 groups to top-right and bottom-left corners\n",
    "x[1:100, ] <- x[1:100, ] + 2  # Shift 100 data points to the top-right corner\n",
    "x[101:150, ] <- x[101:150, ] - 2  # Shift 50 data points to the bottom-left corner\n",
    "y <- c(rep(1, 150), rep(2, 50))  # Add class 1 and 2"
   ]
  },
  {
   "cell_type": "code",
   "execution_count": 45,
   "metadata": {},
   "outputs": [
    {
     "data": {
      "text/html": [
       "<table class=\"dataframe\">\n",
       "<caption>A data.frame: 6 × 3</caption>\n",
       "<thead>\n",
       "\t<tr><th></th><th scope=col>x.1</th><th scope=col>x.2</th><th scope=col>y</th></tr>\n",
       "\t<tr><th></th><th scope=col>&lt;dbl&gt;</th><th scope=col>&lt;dbl&gt;</th><th scope=col>&lt;fct&gt;</th></tr>\n",
       "</thead>\n",
       "<tbody>\n",
       "\t<tr><th scope=row>1</th><td>1.373546</td><td> 2.4094018</td><td>1</td></tr>\n",
       "\t<tr><th scope=row>2</th><td>2.183643</td><td> 3.6888733</td><td>1</td></tr>\n",
       "\t<tr><th scope=row>3</th><td>1.164371</td><td> 3.5865884</td><td>1</td></tr>\n",
       "\t<tr><th scope=row>4</th><td>3.595281</td><td> 1.6690922</td><td>1</td></tr>\n",
       "\t<tr><th scope=row>5</th><td>2.329508</td><td>-0.2852355</td><td>1</td></tr>\n",
       "\t<tr><th scope=row>6</th><td>1.179532</td><td> 4.4976616</td><td>1</td></tr>\n",
       "</tbody>\n",
       "</table>\n"
      ],
      "text/latex": [
       "A data.frame: 6 × 3\n",
       "\\begin{tabular}{r|lll}\n",
       "  & x.1 & x.2 & y\\\\\n",
       "  & <dbl> & <dbl> & <fct>\\\\\n",
       "\\hline\n",
       "\t1 & 1.373546 &  2.4094018 & 1\\\\\n",
       "\t2 & 2.183643 &  3.6888733 & 1\\\\\n",
       "\t3 & 1.164371 &  3.5865884 & 1\\\\\n",
       "\t4 & 3.595281 &  1.6690922 & 1\\\\\n",
       "\t5 & 2.329508 & -0.2852355 & 1\\\\\n",
       "\t6 & 1.179532 &  4.4976616 & 1\\\\\n",
       "\\end{tabular}\n"
      ],
      "text/markdown": [
       "\n",
       "A data.frame: 6 × 3\n",
       "\n",
       "| <!--/--> | x.1 &lt;dbl&gt; | x.2 &lt;dbl&gt; | y &lt;fct&gt; |\n",
       "|---|---|---|---|\n",
       "| 1 | 1.373546 |  2.4094018 | 1 |\n",
       "| 2 | 2.183643 |  3.6888733 | 1 |\n",
       "| 3 | 1.164371 |  3.5865884 | 1 |\n",
       "| 4 | 3.595281 |  1.6690922 | 1 |\n",
       "| 5 | 2.329508 | -0.2852355 | 1 |\n",
       "| 6 | 1.179532 |  4.4976616 | 1 |\n",
       "\n"
      ],
      "text/plain": [
       "  x.1      x.2        y\n",
       "1 1.373546  2.4094018 1\n",
       "2 2.183643  3.6888733 1\n",
       "3 1.164371  3.5865884 1\n",
       "4 3.595281  1.6690922 1\n",
       "5 2.329508 -0.2852355 1\n",
       "6 1.179532  4.4976616 1"
      ]
     },
     "metadata": {},
     "output_type": "display_data"
    }
   ],
   "source": [
    "# Full data\n",
    "dat <- data.frame(x=x, y=as.factor(y))\n",
    "head(dat)\n",
    "\n",
    "# Train data index\n",
    "set.seed(1)\n",
    "train <- sample(200, 100)"
   ]
  },
  {
   "cell_type": "code",
   "execution_count": 46,
   "metadata": {},
   "outputs": [
    {
     "data": {
      "image/png": "[encoded data removed]",
      "text/plain": [
       "plot without title"
      ]
     },
     "metadata": {
      "image/png": {
       "height": 390,
       "width": 360
      }
     },
     "output_type": "display_data"
    }
   ],
   "source": [
    "# Plot the data\n",
    "options(repr.plot.width=6, repr.plot.height=6.5)\n",
    "plot(x[, c(2, 1)], col=y, pch=19, xlab='X2', ylab='X1')"
   ]
  },
  {
   "cell_type": "code",
   "execution_count": 47,
   "metadata": {},
   "outputs": [
    {
     "data": {
      "image/png": "[encoded data removed]",
      "text/plain": [
       "Plot with title \"SVM classification plot\""
      ]
     },
     "metadata": {
      "image/png": {
       "height": 390,
       "width": 420
      }
     },
     "output_type": "display_data"
    }
   ],
   "source": [
    "# Fit the SVM model with radial kernel\n",
    "md_svm <- svm(y ~ ., data=dat[train, ], kernal='radial', gamma=1, cost=1)\n",
    "\n",
    "# Plot the model\n",
    "options(repr.plot.width=7, repr.plot.height=6.5)\n",
    "plot(md_svm, dat[train, ], symbolPalette=rainbow(4))"
   ]
  },
  {
   "cell_type": "code",
   "execution_count": 48,
   "metadata": {},
   "outputs": [
    {
     "data": {
      "text/plain": [
       "\n",
       "Call:\n",
       "svm(formula = y ~ ., data = dat[train, ], kernal = \"radial\", gamma = 1, \n",
       "    cost = 1)\n",
       "\n",
       "\n",
       "Parameters:\n",
       "   SVM-Type:  C-classification \n",
       " SVM-Kernel:  radial \n",
       "       cost:  1 \n",
       "\n",
       "Number of Support Vectors:  41\n",
       "\n",
       " ( 22 19 )\n",
       "\n",
       "\n",
       "Number of Classes:  2 \n",
       "\n",
       "Levels: \n",
       " 1 2\n",
       "\n",
       "\n"
      ]
     },
     "metadata": {},
     "output_type": "display_data"
    }
   ],
   "source": [
    "# Summary SVM (kernel=radial)\n",
    "summary(md_svm)"
   ]
  },
  {
   "cell_type": "code",
   "execution_count": 49,
   "metadata": {},
   "outputs": [
    {
     "data": {
      "image/png": "[encoded data removed]",
      "text/plain": [
       "Plot with title \"SVM classification plot\""
      ]
     },
     "metadata": {
      "image/png": {
       "height": 390,
       "width": 420
      }
     },
     "output_type": "display_data"
    }
   ],
   "source": [
    "# Fit the SVM model with radial kernel, higher cost\n",
    "md_svm <- svm(y ~ ., data=dat[train, ], kernal='radial', gamma=1, cost=1e5)  # Increase cost\n",
    "\n",
    "# Plot the model\n",
    "options(repr.plot.width=7, repr.plot.height=6.5)\n",
    "plot(md_svm, dat[train, ], symbolPalette=rainbow(4))"
   ]
  },
  {
   "cell_type": "code",
   "execution_count": 50,
   "metadata": {},
   "outputs": [
    {
     "data": {
      "image/png": "[encoded data removed]",
      "text/plain": [
       "Plot with title \"SVM classification plot\""
      ]
     },
     "metadata": {
      "image/png": {
       "height": 390,
       "width": 420
      }
     },
     "output_type": "display_data"
    }
   ],
   "source": [
    "# Fit the SVM model with radial kernel, higher gamma\n",
    "md_svm <- svm(y ~ ., data=dat[train, ], kernal='radial', gamma=10, cost=1)  # Increase gamma\n",
    "\n",
    "# Plot the model\n",
    "options(repr.plot.width=7, repr.plot.height=6.5)\n",
    "plot(md_svm, dat[train, ], symbolPalette=rainbow(4))"
   ]
  },
  {
   "cell_type": "code",
   "execution_count": 51,
   "metadata": {},
   "outputs": [],
   "source": [
    "# Tune cost and gamma for SVM\n",
    "set.seed(1)\n",
    "tune_svm <- tune(svm, y ~ ., data=dat[train, ], kernel='radial',\n",
    "                 ranges=list(cost=c(0.1, 1, 10, 100, 1000),  # List of cost values\n",
    "                 gamma=c(0.5, 1, 2, 3, 4)))  # List of gamma values"
   ]
  },
  {
   "cell_type": "code",
   "execution_count": 52,
   "metadata": {},
   "outputs": [
    {
     "data": {
      "text/plain": [
       "\n",
       "Parameter tuning of 'svm':\n",
       "\n",
       "- sampling method: 10-fold cross validation \n",
       "\n",
       "- best parameters:\n",
       " cost gamma\n",
       "    1   0.5\n",
       "\n",
       "- best performance: 0.12 \n",
       "\n",
       "- Detailed performance results:\n",
       "    cost gamma error dispersion\n",
       "1  1e-01   0.5  0.28 0.15491933\n",
       "2  1e+00   0.5  0.12 0.07888106\n",
       "3  1e+01   0.5  0.15 0.10801234\n",
       "4  1e+02   0.5  0.17 0.11595018\n",
       "5  1e+03   0.5  0.23 0.14944341\n",
       "6  1e-01   1.0  0.25 0.13540064\n",
       "7  1e+00   1.0  0.14 0.09660918\n",
       "8  1e+01   1.0  0.16 0.10749677\n",
       "9  1e+02   1.0  0.21 0.15238839\n",
       "10 1e+03   1.0  0.20 0.14142136\n",
       "11 1e-01   2.0  0.28 0.14757296\n",
       "12 1e+00   2.0  0.15 0.10801234\n",
       "13 1e+01   2.0  0.19 0.15238839\n",
       "14 1e+02   2.0  0.18 0.14757296\n",
       "15 1e+03   2.0  0.23 0.12516656\n",
       "16 1e-01   3.0  0.28 0.15491933\n",
       "17 1e+00   3.0  0.15 0.10801234\n",
       "18 1e+01   3.0  0.20 0.16329932\n",
       "19 1e+02   3.0  0.20 0.13333333\n",
       "20 1e+03   3.0  0.27 0.11595018\n",
       "21 1e-01   4.0  0.29 0.14491377\n",
       "22 1e+00   4.0  0.16 0.09660918\n",
       "23 1e+01   4.0  0.18 0.13984118\n",
       "24 1e+02   4.0  0.21 0.11972190\n",
       "25 1e+03   4.0  0.31 0.15951315\n"
      ]
     },
     "metadata": {},
     "output_type": "display_data"
    }
   ],
   "source": [
    "# Summary tuned models\n",
    "summary(tune_svm)"
   ]
  },
  {
   "cell_type": "code",
   "execution_count": 53,
   "metadata": {},
   "outputs": [
    {
     "data": {
      "text/plain": [
       "    truth\n",
       "pred  1  2\n",
       "   1 72  1\n",
       "   2  7 20"
      ]
     },
     "metadata": {},
     "output_type": "display_data"
    },
    {
     "data": {
      "text/html": [
       "0.08"
      ],
      "text/latex": [
       "0.08"
      ],
      "text/markdown": [
       "0.08"
      ],
      "text/plain": [
       "[1] 0.08"
      ]
     },
     "metadata": {},
     "output_type": "display_data"
    }
   ],
   "source": [
    "# Prediction and evaluation on test\n",
    "ypred <- predict(tune_svm$best.model, dat[-train, ])\n",
    "table(pred=ypred, truth=dat[-train, 'y'])\n",
    "mean(ypred != dat[-train, 'y'])  # Error rate"
   ]
  },
  {
   "cell_type": "markdown",
   "metadata": {},
   "source": [
    "### Lab 3: SVM with multiple classes"
   ]
  },
  {
   "cell_type": "code",
   "execution_count": 54,
   "metadata": {},
   "outputs": [],
   "source": [
    "# Generate sample data with multiple classes\n",
    "set.seed(1)\n",
    "x <- matrix(rnorm(200 * 2), ncol=2)\n",
    "\n",
    "# Create 3 group of data by shifting 2 groups to top-right and bottom-left corners\n",
    "x[1:100, ] <- x[1:100, ] + 2  # Shift 100 data points to the top-right corner\n",
    "x[101:150, ] <- x[101:150, ] - 2  # Shift 50 data points to the bottom-left corner\n",
    "y <- c(rep(1, 150), rep(2, 50))  # Add class 1 and 2\n",
    "\n",
    "# Add the third class\n",
    "x <- rbind(x, matrix(rnorm(50 * 2), ncol=2))  # Add 50 more data points\n",
    "x[201:250, 1] <- x[201:250, 1] + 2  # Shift the new 50 data points to the top-left corner\n",
    "x[201:250, 2] <- x[201:250, 2] - 2  # Shift the new 50 data points to the top-left corner\n",
    "y <- c(y, rep(0, 50))  # Add class 0"
   ]
  },
  {
   "cell_type": "code",
   "execution_count": 55,
   "metadata": {},
   "outputs": [
    {
     "data": {
      "text/html": [
       "<table class=\"dataframe\">\n",
       "<caption>A data.frame: 6 × 3</caption>\n",
       "<thead>\n",
       "\t<tr><th></th><th scope=col>x.1</th><th scope=col>x.2</th><th scope=col>y</th></tr>\n",
       "\t<tr><th></th><th scope=col>&lt;dbl&gt;</th><th scope=col>&lt;dbl&gt;</th><th scope=col>&lt;fct&gt;</th></tr>\n",
       "</thead>\n",
       "<tbody>\n",
       "\t<tr><th scope=row>249</th><td> 2.2368037</td><td>-1.6523464</td><td>0</td></tr>\n",
       "\t<tr><th scope=row>68</th><td> 3.4655549</td><td> 0.8108867</td><td>1</td></tr>\n",
       "\t<tr><th scope=row>167</th><td>-0.2550270</td><td> 0.6783402</td><td>2</td></tr>\n",
       "\t<tr><th scope=row>129</th><td>-2.6816605</td><td>-2.8640360</td><td>1</td></tr>\n",
       "\t<tr><th scope=row>162</th><td>-0.2386471</td><td> 1.3140022</td><td>2</td></tr>\n",
       "\t<tr><th scope=row>215</th><td> 1.4919138</td><td>-1.9951156</td><td>0</td></tr>\n",
       "</tbody>\n",
       "</table>\n"
      ],
      "text/latex": [
       "A data.frame: 6 × 3\n",
       "\\begin{tabular}{r|lll}\n",
       "  & x.1 & x.2 & y\\\\\n",
       "  & <dbl> & <dbl> & <fct>\\\\\n",
       "\\hline\n",
       "\t249 &  2.2368037 & -1.6523464 & 0\\\\\n",
       "\t68 &  3.4655549 &  0.8108867 & 1\\\\\n",
       "\t167 & -0.2550270 &  0.6783402 & 2\\\\\n",
       "\t129 & -2.6816605 & -2.8640360 & 1\\\\\n",
       "\t162 & -0.2386471 &  1.3140022 & 2\\\\\n",
       "\t215 &  1.4919138 & -1.9951156 & 0\\\\\n",
       "\\end{tabular}\n"
      ],
      "text/markdown": [
       "\n",
       "A data.frame: 6 × 3\n",
       "\n",
       "| <!--/--> | x.1 &lt;dbl&gt; | x.2 &lt;dbl&gt; | y &lt;fct&gt; |\n",
       "|---|---|---|---|\n",
       "| 249 |  2.2368037 | -1.6523464 | 0 |\n",
       "| 68 |  3.4655549 |  0.8108867 | 1 |\n",
       "| 167 | -0.2550270 |  0.6783402 | 2 |\n",
       "| 129 | -2.6816605 | -2.8640360 | 1 |\n",
       "| 162 | -0.2386471 |  1.3140022 | 2 |\n",
       "| 215 |  1.4919138 | -1.9951156 | 0 |\n",
       "\n"
      ],
      "text/plain": [
       "    x.1        x.2        y\n",
       "249  2.2368037 -1.6523464 0\n",
       "68   3.4655549  0.8108867 1\n",
       "167 -0.2550270  0.6783402 2\n",
       "129 -2.6816605 -2.8640360 1\n",
       "162 -0.2386471  1.3140022 2\n",
       "215  1.4919138 -1.9951156 0"
      ]
     },
     "metadata": {},
     "output_type": "display_data"
    }
   ],
   "source": [
    "# Full data\n",
    "set.seed(1)\n",
    "dat <- data.frame(x=x, y=as.factor(y))\n",
    "dat <- dat[sample(250, 250), ]  # Suffle data\n",
    "head(dat)\n",
    "\n",
    "# Train data index, test index = -train\n",
    "set.seed(1)\n",
    "train <- sample(250, 150)"
   ]
  },
  {
   "cell_type": "code",
   "execution_count": 56,
   "metadata": {},
   "outputs": [
    {
     "data": {
      "image/png": "[encoded data removed]",
      "text/plain": [
       "plot without title"
      ]
     },
     "metadata": {
      "image/png": {
       "height": 390,
       "width": 360
      }
     },
     "output_type": "display_data"
    }
   ],
   "source": [
    "# Plot the data\n",
    "options(repr.plot.width=6, repr.plot.height=6.5)\n",
    "plot(x[, c(2, 1)], col=(y + 1), pch=19, xlab='X2', ylab='X1')"
   ]
  },
  {
   "cell_type": "code",
   "execution_count": 57,
   "metadata": {},
   "outputs": [
    {
     "data": {
      "image/png": "[encoded data removed]",
      "text/plain": [
       "Plot with title \"SVM classification plot\""
      ]
     },
     "metadata": {
      "image/png": {
       "height": 390,
       "width": 420
      }
     },
     "output_type": "display_data"
    }
   ],
   "source": [
    "# Fit the SVM model\n",
    "md_svm <- svm(y ~ ., data=dat[train, ], kernel='radial', cost=1, gamma=0.5)\n",
    "\n",
    "# Plot the model\n",
    "options(repr.plot.width=7, repr.plot.height=6.5)\n",
    "plot(md_svm, dat[train, ], symbolPalette=rainbow(4))"
   ]
  },
  {
   "cell_type": "code",
   "execution_count": 58,
   "metadata": {},
   "outputs": [],
   "source": [
    "# Tune cost and gamma for SVM\n",
    "set.seed(1)\n",
    "tune_svm <- tune(svm, y ~ ., data=dat[train, ], kernel='radial',\n",
    "                 ranges=list(cost=c(0.1, 1, 10, 100, 1000),  # List of cost values\n",
    "                 gamma=c(0.5, 1, 2, 3, 4)))  # List of gamma values"
   ]
  },
  {
   "cell_type": "code",
   "execution_count": 59,
   "metadata": {},
   "outputs": [
    {
     "data": {
      "text/plain": [
       "\n",
       "Parameter tuning of 'svm':\n",
       "\n",
       "- sampling method: 10-fold cross validation \n",
       "\n",
       "- best parameters:\n",
       " cost gamma\n",
       "   10   0.5\n",
       "\n",
       "- best performance: 0.1266667 \n",
       "\n",
       "- Detailed performance results:\n",
       "    cost gamma     error dispersion\n",
       "1  1e-01   0.5 0.2666667 0.12957671\n",
       "2  1e+00   0.5 0.1466667 0.10795518\n",
       "3  1e+01   0.5 0.1266667 0.10159226\n",
       "4  1e+02   0.5 0.1533333 0.13351839\n",
       "5  1e+03   0.5 0.1600000 0.12252488\n",
       "6  1e-01   1.0 0.2800000 0.12881224\n",
       "7  1e+00   1.0 0.1333333 0.11331154\n",
       "8  1e+01   1.0 0.1266667 0.09660918\n",
       "9  1e+02   1.0 0.1466667 0.12491973\n",
       "10 1e+03   1.0 0.1933333 0.09135469\n",
       "11 1e-01   2.0 0.3533333 0.14072125\n",
       "12 1e+00   2.0 0.1333333 0.10423146\n",
       "13 1e+01   2.0 0.1466667 0.12491973\n",
       "14 1e+02   2.0 0.1800000 0.09962894\n",
       "15 1e+03   2.0 0.2333333 0.09558139\n",
       "16 1e-01   3.0 0.3666667 0.13788526\n",
       "17 1e+00   3.0 0.1266667 0.09660918\n",
       "18 1e+01   3.0 0.1600000 0.10036969\n",
       "19 1e+02   3.0 0.2000000 0.07027284\n",
       "20 1e+03   3.0 0.2200000 0.08344437\n",
       "21 1e-01   4.0 0.3666667 0.13788526\n",
       "22 1e+00   4.0 0.1333333 0.09428090\n",
       "23 1e+01   4.0 0.1666667 0.09026709\n",
       "24 1e+02   4.0 0.1800000 0.08916623\n",
       "25 1e+03   4.0 0.2066667 0.07981460\n"
      ]
     },
     "metadata": {},
     "output_type": "display_data"
    }
   ],
   "source": [
    "# Summary tuned models\n",
    "summary(tune_svm)"
   ]
  },
  {
   "cell_type": "code",
   "execution_count": 60,
   "metadata": {},
   "outputs": [
    {
     "data": {
      "text/plain": [
       "    truth\n",
       "pred  0  1  2\n",
       "   0 18  2  1\n",
       "   1  3 49  5\n",
       "   2  2  4 16"
      ]
     },
     "metadata": {},
     "output_type": "display_data"
    },
    {
     "data": {
      "text/html": [
       "0.17"
      ],
      "text/latex": [
       "0.17"
      ],
      "text/markdown": [
       "0.17"
      ],
      "text/plain": [
       "[1] 0.17"
      ]
     },
     "metadata": {},
     "output_type": "display_data"
    }
   ],
   "source": [
    "# Prediction and evaluation on train\n",
    "ypred <- predict(tune_svm$best.model, dat[-train, ])\n",
    "table(pred=ypred, truth=dat[-train, 'y'])\n",
    "mean(ypred != dat[-train, 'y'])  # Error rate"
   ]
  },
  {
   "cell_type": "markdown",
   "metadata": {},
   "source": [
    "### Lab 4: Gene Expression Data\n",
    "\n",
    "The data set consists of expression measurements for 2,308 genes for 4 cancer subtypes.  \n",
    "\n",
    "Source: https://cran.r-project.org/web/packages/ISLR/ISLR.pdf"
   ]
  },
  {
   "cell_type": "code",
   "execution_count": 61,
   "metadata": {},
   "outputs": [],
   "source": [
    "# Load data set\n",
    "library(ISLR)\n",
    "gene <- ISLR::Khan\n",
    "\n",
    "# Prepare train, test data set\n",
    "train <- data.frame(x=gene$xtrain, y=as.factor(gene$ytrain))\n",
    "test <- data.frame(x=gene$xtest, y=as.factor(gene$ytest))"
   ]
  },
  {
   "cell_type": "code",
   "execution_count": 62,
   "metadata": {},
   "outputs": [
    {
     "name": "stdout",
     "output_type": "stream",
     "text": [
      "[1]   63 2309\n"
     ]
    },
    {
     "data": {
      "text/html": [
       "<table class=\"dataframe\">\n",
       "<caption>A data.frame: 6 × 2309</caption>\n",
       "<thead>\n",
       "\t<tr><th></th><th scope=col>x.1</th><th scope=col>x.2</th><th scope=col>x.3</th><th scope=col>x.4</th><th scope=col>x.5</th><th scope=col>x.6</th><th scope=col>x.7</th><th scope=col>x.8</th><th scope=col>x.9</th><th scope=col>x.10</th><th scope=col>⋯</th><th scope=col>x.2300</th><th scope=col>x.2301</th><th scope=col>x.2302</th><th scope=col>x.2303</th><th scope=col>x.2304</th><th scope=col>x.2305</th><th scope=col>x.2306</th><th scope=col>x.2307</th><th scope=col>x.2308</th><th scope=col>y</th></tr>\n",
       "\t<tr><th></th><th scope=col>&lt;dbl&gt;</th><th scope=col>&lt;dbl&gt;</th><th scope=col>&lt;dbl&gt;</th><th scope=col>&lt;dbl&gt;</th><th scope=col>&lt;dbl&gt;</th><th scope=col>&lt;dbl&gt;</th><th scope=col>&lt;dbl&gt;</th><th scope=col>&lt;dbl&gt;</th><th scope=col>&lt;dbl&gt;</th><th scope=col>&lt;dbl&gt;</th><th scope=col>⋯</th><th scope=col>&lt;dbl&gt;</th><th scope=col>&lt;dbl&gt;</th><th scope=col>&lt;dbl&gt;</th><th scope=col>&lt;dbl&gt;</th><th scope=col>&lt;dbl&gt;</th><th scope=col>&lt;dbl&gt;</th><th scope=col>&lt;dbl&gt;</th><th scope=col>&lt;dbl&gt;</th><th scope=col>&lt;dbl&gt;</th><th scope=col>&lt;fct&gt;</th></tr>\n",
       "</thead>\n",
       "<tbody>\n",
       "\t<tr><th scope=row>V1</th><td> 0.77334370</td><td>-2.438405</td><td>-0.4825622</td><td>-2.7211350</td><td>-1.2170580</td><td> 0.82780920</td><td>1.342604</td><td> 0.05704174</td><td> 0.13356890</td><td>0.5654274</td><td>⋯</td><td>-0.02747398</td><td>-1.660205</td><td> 0.58823100</td><td>-0.46362400</td><td>-3.952845</td><td>-5.496768</td><td>-1.414282</td><td>-0.6476004</td><td>-1.76317200</td><td>2</td></tr>\n",
       "\t<tr><th scope=row>V2</th><td>-0.07817778</td><td>-2.415754</td><td> 0.4127717</td><td>-2.8251460</td><td>-0.6262365</td><td> 0.05448819</td><td>1.429498</td><td>-0.12024860</td><td> 0.45679170</td><td>0.1590529</td><td>⋯</td><td>-0.24628420</td><td>-0.836325</td><td>-0.57128360</td><td> 0.03478783</td><td>-2.478130</td><td>-3.661264</td><td>-1.093923</td><td>-1.2093200</td><td>-0.82439550</td><td>2</td></tr>\n",
       "\t<tr><th scope=row>V3</th><td>-0.08446916</td><td>-1.649739</td><td>-0.2413075</td><td>-2.8752860</td><td>-0.8894054</td><td>-0.02747398</td><td>1.159300</td><td> 0.01567648</td><td> 0.19194180</td><td>0.4965847</td><td>⋯</td><td> 0.02498525</td><td>-1.059872</td><td>-0.40376660</td><td>-0.67865270</td><td>-2.939352</td><td>-2.736450</td><td>-1.965399</td><td>-0.8058680</td><td>-1.13943400</td><td>2</td></tr>\n",
       "\t<tr><th scope=row>V4</th><td> 0.96561400</td><td>-2.380547</td><td> 0.6252965</td><td>-1.7412560</td><td>-0.8453664</td><td> 0.94968680</td><td>1.093801</td><td> 0.81973580</td><td>-0.28462010</td><td>0.9947322</td><td>⋯</td><td> 0.35711480</td><td>-1.893128</td><td> 0.25510720</td><td> 0.16330860</td><td>-1.021929</td><td>-2.077843</td><td>-1.127629</td><td> 0.3315315</td><td>-2.17948300</td><td>2</td></tr>\n",
       "\t<tr><th scope=row>V5</th><td> 0.07566390</td><td>-1.728785</td><td> 0.8526265</td><td> 0.2726953</td><td>-1.8413700</td><td> 0.32793590</td><td>1.251219</td><td> 0.77144990</td><td> 0.03091710</td><td>0.2783133</td><td>⋯</td><td> 0.06175340</td><td>-2.273998</td><td>-0.03936472</td><td> 0.36880110</td><td>-2.566551</td><td>-1.675044</td><td>-1.082050</td><td>-0.9652184</td><td>-1.83696600</td><td>2</td></tr>\n",
       "\t<tr><th scope=row>V6</th><td> 0.45881630</td><td>-2.875286</td><td> 0.1358412</td><td> 0.4053984</td><td>-2.0826470</td><td> 0.13784710</td><td>1.733530</td><td> 0.39642440</td><td> 0.04583342</td><td>0.3520643</td><td>⋯</td><td>-1.10201800</td><td>-1.545994</td><td>-0.65778000</td><td> 0.39008070</td><td>-1.660205</td><td>-1.651302</td><td>-1.130722</td><td>-1.1291750</td><td> 0.04114194</td><td>2</td></tr>\n",
       "</tbody>\n",
       "</table>\n"
      ],
      "text/latex": [
       "A data.frame: 6 × 2309\n",
       "\\begin{tabular}{r|lllllllllllllllllllll}\n",
       "  & x.1 & x.2 & x.3 & x.4 & x.5 & x.6 & x.7 & x.8 & x.9 & x.10 & ⋯ & x.2300 & x.2301 & x.2302 & x.2303 & x.2304 & x.2305 & x.2306 & x.2307 & x.2308 & y\\\\\n",
       "  & <dbl> & <dbl> & <dbl> & <dbl> & <dbl> & <dbl> & <dbl> & <dbl> & <dbl> & <dbl> & ⋯ & <dbl> & <dbl> & <dbl> & <dbl> & <dbl> & <dbl> & <dbl> & <dbl> & <dbl> & <fct>\\\\\n",
       "\\hline\n",
       "\tV1 &  0.77334370 & -2.438405 & -0.4825622 & -2.7211350 & -1.2170580 &  0.82780920 & 1.342604 &  0.05704174 &  0.13356890 & 0.5654274 & ⋯ & -0.02747398 & -1.660205 &  0.58823100 & -0.46362400 & -3.952845 & -5.496768 & -1.414282 & -0.6476004 & -1.76317200 & 2\\\\\n",
       "\tV2 & -0.07817778 & -2.415754 &  0.4127717 & -2.8251460 & -0.6262365 &  0.05448819 & 1.429498 & -0.12024860 &  0.45679170 & 0.1590529 & ⋯ & -0.24628420 & -0.836325 & -0.57128360 &  0.03478783 & -2.478130 & -3.661264 & -1.093923 & -1.2093200 & -0.82439550 & 2\\\\\n",
       "\tV3 & -0.08446916 & -1.649739 & -0.2413075 & -2.8752860 & -0.8894054 & -0.02747398 & 1.159300 &  0.01567648 &  0.19194180 & 0.4965847 & ⋯ &  0.02498525 & -1.059872 & -0.40376660 & -0.67865270 & -2.939352 & -2.736450 & -1.965399 & -0.8058680 & -1.13943400 & 2\\\\\n",
       "\tV4 &  0.96561400 & -2.380547 &  0.6252965 & -1.7412560 & -0.8453664 &  0.94968680 & 1.093801 &  0.81973580 & -0.28462010 & 0.9947322 & ⋯ &  0.35711480 & -1.893128 &  0.25510720 &  0.16330860 & -1.021929 & -2.077843 & -1.127629 &  0.3315315 & -2.17948300 & 2\\\\\n",
       "\tV5 &  0.07566390 & -1.728785 &  0.8526265 &  0.2726953 & -1.8413700 &  0.32793590 & 1.251219 &  0.77144990 &  0.03091710 & 0.2783133 & ⋯ &  0.06175340 & -2.273998 & -0.03936472 &  0.36880110 & -2.566551 & -1.675044 & -1.082050 & -0.9652184 & -1.83696600 & 2\\\\\n",
       "\tV6 &  0.45881630 & -2.875286 &  0.1358412 &  0.4053984 & -2.0826470 &  0.13784710 & 1.733530 &  0.39642440 &  0.04583342 & 0.3520643 & ⋯ & -1.10201800 & -1.545994 & -0.65778000 &  0.39008070 & -1.660205 & -1.651302 & -1.130722 & -1.1291750 &  0.04114194 & 2\\\\\n",
       "\\end{tabular}\n"
      ],
      "text/markdown": [
       "\n",
       "A data.frame: 6 × 2309\n",
       "\n",
       "| <!--/--> | x.1 &lt;dbl&gt; | x.2 &lt;dbl&gt; | x.3 &lt;dbl&gt; | x.4 &lt;dbl&gt; | x.5 &lt;dbl&gt; | x.6 &lt;dbl&gt; | x.7 &lt;dbl&gt; | x.8 &lt;dbl&gt; | x.9 &lt;dbl&gt; | x.10 &lt;dbl&gt; | ⋯ ⋯ | x.2300 &lt;dbl&gt; | x.2301 &lt;dbl&gt; | x.2302 &lt;dbl&gt; | x.2303 &lt;dbl&gt; | x.2304 &lt;dbl&gt; | x.2305 &lt;dbl&gt; | x.2306 &lt;dbl&gt; | x.2307 &lt;dbl&gt; | x.2308 &lt;dbl&gt; | y &lt;fct&gt; |\n",
       "|---|---|---|---|---|---|---|---|---|---|---|---|---|---|---|---|---|---|---|---|---|---|\n",
       "| V1 |  0.77334370 | -2.438405 | -0.4825622 | -2.7211350 | -1.2170580 |  0.82780920 | 1.342604 |  0.05704174 |  0.13356890 | 0.5654274 | ⋯ | -0.02747398 | -1.660205 |  0.58823100 | -0.46362400 | -3.952845 | -5.496768 | -1.414282 | -0.6476004 | -1.76317200 | 2 |\n",
       "| V2 | -0.07817778 | -2.415754 |  0.4127717 | -2.8251460 | -0.6262365 |  0.05448819 | 1.429498 | -0.12024860 |  0.45679170 | 0.1590529 | ⋯ | -0.24628420 | -0.836325 | -0.57128360 |  0.03478783 | -2.478130 | -3.661264 | -1.093923 | -1.2093200 | -0.82439550 | 2 |\n",
       "| V3 | -0.08446916 | -1.649739 | -0.2413075 | -2.8752860 | -0.8894054 | -0.02747398 | 1.159300 |  0.01567648 |  0.19194180 | 0.4965847 | ⋯ |  0.02498525 | -1.059872 | -0.40376660 | -0.67865270 | -2.939352 | -2.736450 | -1.965399 | -0.8058680 | -1.13943400 | 2 |\n",
       "| V4 |  0.96561400 | -2.380547 |  0.6252965 | -1.7412560 | -0.8453664 |  0.94968680 | 1.093801 |  0.81973580 | -0.28462010 | 0.9947322 | ⋯ |  0.35711480 | -1.893128 |  0.25510720 |  0.16330860 | -1.021929 | -2.077843 | -1.127629 |  0.3315315 | -2.17948300 | 2 |\n",
       "| V5 |  0.07566390 | -1.728785 |  0.8526265 |  0.2726953 | -1.8413700 |  0.32793590 | 1.251219 |  0.77144990 |  0.03091710 | 0.2783133 | ⋯ |  0.06175340 | -2.273998 | -0.03936472 |  0.36880110 | -2.566551 | -1.675044 | -1.082050 | -0.9652184 | -1.83696600 | 2 |\n",
       "| V6 |  0.45881630 | -2.875286 |  0.1358412 |  0.4053984 | -2.0826470 |  0.13784710 | 1.733530 |  0.39642440 |  0.04583342 | 0.3520643 | ⋯ | -1.10201800 | -1.545994 | -0.65778000 |  0.39008070 | -1.660205 | -1.651302 | -1.130722 | -1.1291750 |  0.04114194 | 2 |\n",
       "\n"
      ],
      "text/plain": [
       "   x.1         x.2       x.3        x.4        x.5        x.6         x.7     \n",
       "V1  0.77334370 -2.438405 -0.4825622 -2.7211350 -1.2170580  0.82780920 1.342604\n",
       "V2 -0.07817778 -2.415754  0.4127717 -2.8251460 -0.6262365  0.05448819 1.429498\n",
       "V3 -0.08446916 -1.649739 -0.2413075 -2.8752860 -0.8894054 -0.02747398 1.159300\n",
       "V4  0.96561400 -2.380547  0.6252965 -1.7412560 -0.8453664  0.94968680 1.093801\n",
       "V5  0.07566390 -1.728785  0.8526265  0.2726953 -1.8413700  0.32793590 1.251219\n",
       "V6  0.45881630 -2.875286  0.1358412  0.4053984 -2.0826470  0.13784710 1.733530\n",
       "   x.8         x.9         x.10      <U+22EF>        x.2300      x.2301    x.2302     \n",
       "V1  0.05704174  0.13356890 0.5654274 <U+22EF> -0.02747398 -1.660205  0.58823100\n",
       "V2 -0.12024860  0.45679170 0.1590529 <U+22EF> -0.24628420 -0.836325 -0.57128360\n",
       "V3  0.01567648  0.19194180 0.4965847 <U+22EF>  0.02498525 -1.059872 -0.40376660\n",
       "V4  0.81973580 -0.28462010 0.9947322 <U+22EF>  0.35711480 -1.893128  0.25510720\n",
       "V5  0.77144990  0.03091710 0.2783133 <U+22EF>  0.06175340 -2.273998 -0.03936472\n",
       "V6  0.39642440  0.04583342 0.3520643 <U+22EF> -1.10201800 -1.545994 -0.65778000\n",
       "   x.2303      x.2304    x.2305    x.2306    x.2307     x.2308      y\n",
       "V1 -0.46362400 -3.952845 -5.496768 -1.414282 -0.6476004 -1.76317200 2\n",
       "V2  0.03478783 -2.478130 -3.661264 -1.093923 -1.2093200 -0.82439550 2\n",
       "V3 -0.67865270 -2.939352 -2.736450 -1.965399 -0.8058680 -1.13943400 2\n",
       "V4  0.16330860 -1.021929 -2.077843 -1.127629  0.3315315 -2.17948300 2\n",
       "V5  0.36880110 -2.566551 -1.675044 -1.082050 -0.9652184 -1.83696600 2\n",
       "V6  0.39008070 -1.660205 -1.651302 -1.130722 -1.1291750  0.04114194 2"
      ]
     },
     "metadata": {},
     "output_type": "display_data"
    }
   ],
   "source": [
    "# The data structure\n",
    "print(dim(train))\n",
    "head(train)"
   ]
  },
  {
   "cell_type": "code",
   "execution_count": 63,
   "metadata": {},
   "outputs": [
    {
     "data": {
      "text/plain": [
       "\n",
       " 1  2  3  4 \n",
       " 8 23 12 20 "
      ]
     },
     "metadata": {},
     "output_type": "display_data"
    },
    {
     "data": {
      "text/plain": [
       "\n",
       "   1    2    3    4 \n",
       "0.13 0.37 0.19 0.32 "
      ]
     },
     "metadata": {},
     "output_type": "display_data"
    }
   ],
   "source": [
    "# Target variable distribution\n",
    "table(train$y)  # By counts\n",
    "round(table(train$y) / nrow(train), 2)  # By percentage"
   ]
  },
  {
   "cell_type": "code",
   "execution_count": 64,
   "metadata": {},
   "outputs": [
    {
     "data": {
      "text/plain": [
       "\n",
       "Call:\n",
       "svm(formula = y ~ ., data = train, kernel = \"linear\", cost = 10, \n",
       "    scale = T)\n",
       "\n",
       "\n",
       "Parameters:\n",
       "   SVM-Type:  C-classification \n",
       " SVM-Kernel:  linear \n",
       "       cost:  10 \n",
       "\n",
       "Number of Support Vectors:  58\n",
       "\n",
       " ( 20 20 11 7 )\n",
       "\n",
       "\n",
       "Number of Classes:  4 \n",
       "\n",
       "Levels: \n",
       " 1 2 3 4\n",
       "\n",
       "\n"
      ]
     },
     "metadata": {},
     "output_type": "display_data"
    }
   ],
   "source": [
    "# Fit the SVM model\n",
    "md_svm <- svm(y ~ ., data=train, kernel='linear', cost=10, scale=T)\n",
    "summary(md_svm)"
   ]
  },
  {
   "cell_type": "code",
   "execution_count": 65,
   "metadata": {},
   "outputs": [
    {
     "data": {
      "text/plain": [
       "   \n",
       "     1  2  3  4\n",
       "  1  8  0  0  0\n",
       "  2  0 23  0  0\n",
       "  3  0  0 12  0\n",
       "  4  0  0  0 20"
      ]
     },
     "metadata": {},
     "output_type": "display_data"
    },
    {
     "data": {
      "text/html": [
       "0"
      ],
      "text/latex": [
       "0"
      ],
      "text/markdown": [
       "0"
      ],
      "text/plain": [
       "[1] 0"
      ]
     },
     "metadata": {},
     "output_type": "display_data"
    }
   ],
   "source": [
    "# Evaluate on train set\n",
    "table(md_svm$fitted, train$y)\n",
    "mean(md_svm$fitted != train$y)  # No error"
   ]
  },
  {
   "cell_type": "code",
   "execution_count": 66,
   "metadata": {},
   "outputs": [
    {
     "data": {
      "text/plain": [
       "    truth\n",
       "pred 1 2 3 4\n",
       "   1 3 0 0 0\n",
       "   2 0 6 2 0\n",
       "   3 0 0 4 0\n",
       "   4 0 0 0 5"
      ]
     },
     "metadata": {},
     "output_type": "display_data"
    },
    {
     "data": {
      "text/html": [
       "0.1"
      ],
      "text/latex": [
       "0.1"
      ],
      "text/markdown": [
       "0.1"
      ],
      "text/plain": [
       "[1] 0.1"
      ]
     },
     "metadata": {},
     "output_type": "display_data"
    }
   ],
   "source": [
    "# Predict and evaluate on test set\n",
    "ypred <- predict(md_svm, newdata=test)\n",
    "table(pred=ypred, truth=test$y)\n",
    "mean(ypred != test$y)  # 10% error"
   ]
  },
  {
   "cell_type": "markdown",
   "metadata": {},
   "source": [
    "## Homework\n",
    "\n",
    "- Exercise 1 (p.368, Chap.9), 2 (p.368, Chap.9), 4 (p.369, Chap.9), 7 (p.371, Chap.9) and 8 (p.371)"
   ]
  },
  {
   "cell_type": "code",
   "execution_count": 15,
   "metadata": {},
   "outputs": [
    {
     "data": {
      "image/png": "[encoded data removed]",
      "text/plain": [
       "plot without title"
      ]
     },
     "metadata": {},
     "output_type": "display_data"
    }
   ],
   "source": [
    "#Exercise 1, Chapter 9\n",
    "\n",
    "#A)\n",
    "x <- -10:10\n",
    "x2 <- 1 + 3 * x\n",
    "plot(x, x2, type = \"l\", col = \"purple\")\n",
    "text(c(0), c(-20), \"Greater than 0\", col = \"blue\")\n",
    "text(c(0), c(20), \"Less than 0\", col = \"red\")\n",
    "\n",
    "#B)\n",
    "lines(x, 1 - x1/2, col = \"red\")\n",
    "text(c(0), c(-15), \"Less than 0\", col = \"orange\")\n",
    "text(c(0), c(15), \"Greater than 0\", col = \"orange\")\n"
   ]
  },
  {
   "cell_type": "code",
   "execution_count": 19,
   "metadata": {
    "scrolled": false
   },
   "outputs": [
    {
     "data": {
      "image/png": "[encoded data removed]",
      "text/plain": [
       "plot without title"
      ]
     },
     "metadata": {},
     "output_type": "display_data"
    }
   ],
   "source": [
    "#Exercise 2, Chapter 9\n",
    "\n",
    "#A)\n",
    "plot(NA, NA, type = \"n\", xlim = c(-4, 2), ylim = c(-1, 5), asp = 1, xlab = \"X1\", ylab = \"X2\")\n",
    "symbols(c(-1), c(2), circles = c(2), add = TRUE, inches = FALSE)\n"
   ]
  },
  {
   "cell_type": "code",
   "execution_count": 20,
   "metadata": {},
   "outputs": [
    {
     "data": {
      "image/png": "[encoded data removed]",
      "text/plain": [
       "plot without title"
      ]
     },
     "metadata": {},
     "output_type": "display_data"
    }
   ],
   "source": [
    "#B)\n",
    "plot(NA, NA, type = \"n\", xlim = c(-4, 2), ylim = c(-1, 5), asp = 1, xlab = \"X1\", ylab = \"X2\")\n",
    "symbols(c(-1), c(2), circles = c(2), add = TRUE, inches = FALSE)\n",
    "text(c(-1), c(2), \"< 4\")\n",
    "text(c(-4), c(2), \"> 4\")\n"
   ]
  },
  {
   "cell_type": "code",
   "execution_count": 21,
   "metadata": {},
   "outputs": [
    {
     "data": {
      "image/png": "[encoded data removed]",
      "text/plain": [
       "plot without title"
      ]
     },
     "metadata": {},
     "output_type": "display_data"
    }
   ],
   "source": [
    "#C)\n",
    "plot(c(0, -1, 2, 3), c(0, 1, 2, 8), col = c(\"red\", \"orange\", \"red\", \"red\"), \n",
    "    type = \"p\", asp = 1, xlab = \"X1\", ylab = \"X2\")\n",
    "symbols(c(-1), c(2), circles = c(2), add = TRUE, inches = FALSE)\n"
   ]
  },
  {
   "cell_type": "code",
   "execution_count": null,
   "metadata": {},
   "outputs": [],
   "source": [
    "#D)\n",
    "#We can expand the equation of the boundary\n"
   ]
  },
  {
   "cell_type": "code",
   "execution_count": 28,
   "metadata": {},
   "outputs": [
    {
     "data": {
      "image/png": "[encoded data removed]",
      "text/plain": [
       "plot without title"
      ]
     },
     "metadata": {},
     "output_type": "display_data"
    }
   ],
   "source": [
    "#Exercise 4, Chapter 9\n",
    "#FIRST FEATURE\n",
    "\n",
    "library(e1071)\n",
    "set.seed(123)\n",
    "x <- rnorm(100)\n",
    "y <- 4 * x^2 + 1 + rnorm(100)\n",
    "class <- sample(100, 50)\n",
    "y[class] <- y[class] + 3\n",
    "y[-class] <- y[-class] - 3\n",
    "plot(x[class], y[class], col = \"blue\", xlab = \"X\", ylab = \"Y\", ylim = c(-5, 35))\n",
    "points(x[-class], y[-class], col = \"purple\")"
   ]
  },
  {
   "cell_type": "code",
   "execution_count": 32,
   "metadata": {},
   "outputs": [
    {
     "data": {
      "image/png": "[encoded data removed]",
      "text/plain": [
       "Plot with title \"SVM classification plot\""
      ]
     },
     "metadata": {},
     "output_type": "display_data"
    }
   ],
   "source": [
    "#SECOND FEATURE\n",
    "K <- rep(-1, 100)\n",
    "K[class] <- 1\n",
    "data <- data.frame(x = x, y = y, z = as.factor(K))\n",
    "train <- sample(100, 70)\n",
    "data_train <- data[train, ]\n",
    "data_test <- data[-train, ]\n",
    "svm.linear <- svm(z ~ ., data = data_train, kernel = \"linear\", cost = 10)\n",
    "plot(svm.linear, data_train)"
   ]
  },
  {
   "cell_type": "code",
   "execution_count": 33,
   "metadata": {},
   "outputs": [],
   "source": [
    "#Exercise 7, Chapter 9\n",
    "\n",
    "#A)\n",
    "library(ISLR)\n",
    "varIABLE <- ifelse(Auto$mpg > median(Auto$mpg), 1, 0)\n",
    "Auto$mpglevel <- as.factor(varIABLE)"
   ]
  },
  {
   "cell_type": "code",
   "execution_count": 34,
   "metadata": {},
   "outputs": [
    {
     "data": {
      "text/plain": [
       "\n",
       "Parameter tuning of 'svm':\n",
       "\n",
       "- sampling method: 10-fold cross validation \n",
       "\n",
       "- best parameters:\n",
       " cost\n",
       "    1\n",
       "\n",
       "- best performance: 0.01025641 \n",
       "\n",
       "- Detailed performance results:\n",
       "   cost      error dispersion\n",
       "1 1e-02 0.07634615 0.03928191\n",
       "2 1e-01 0.04333333 0.03191738\n",
       "3 1e+00 0.01025641 0.01792836\n",
       "4 5e+00 0.01538462 0.01792836\n",
       "5 1e+01 0.01788462 0.01727588\n",
       "6 1e+02 0.03320513 0.02720447\n",
       "7 1e+03 0.03320513 0.02720447\n"
      ]
     },
     "metadata": {},
     "output_type": "display_data"
    }
   ],
   "source": [
    "#B)\n",
    "set.seed(123)\n",
    "tune <- tune(svm, mpglevel ~ ., data = Auto, kernel = \"linear\", ranges = list(cost = c(0.01, 0.1, 1, 5, 10, 100, 1000)))\n",
    "summary(tune)\n"
   ]
  },
  {
   "cell_type": "code",
   "execution_count": 35,
   "metadata": {},
   "outputs": [
    {
     "data": {
      "text/plain": [
       "\n",
       "Parameter tuning of 'svm':\n",
       "\n",
       "- sampling method: 10-fold cross validation \n",
       "\n",
       "- best parameters:\n",
       " cost degree\n",
       "  100      2\n",
       "\n",
       "- best performance: 0.3034615 \n",
       "\n",
       "- Detailed performance results:\n",
       "    cost degree     error dispersion\n",
       "1  1e-02      2 0.5817308 0.04740051\n",
       "2  1e-01      2 0.5817308 0.04740051\n",
       "3  1e+00      2 0.5817308 0.04740051\n",
       "4  5e+00      2 0.5817308 0.04740051\n",
       "5  1e+01      2 0.5714744 0.04575370\n",
       "6  1e+02      2 0.3034615 0.10917787\n",
       "7  1e-02      3 0.5817308 0.04740051\n",
       "8  1e-01      3 0.5817308 0.04740051\n",
       "9  1e+00      3 0.5817308 0.04740051\n",
       "10 5e+00      3 0.5817308 0.04740051\n",
       "11 1e+01      3 0.5817308 0.04740051\n",
       "12 1e+02      3 0.3521154 0.13782036\n",
       "13 1e-02      4 0.5817308 0.04740051\n",
       "14 1e-01      4 0.5817308 0.04740051\n",
       "15 1e+00      4 0.5817308 0.04740051\n",
       "16 5e+00      4 0.5817308 0.04740051\n",
       "17 1e+01      4 0.5817308 0.04740051\n",
       "18 1e+02      4 0.5817308 0.04740051\n"
      ]
     },
     "metadata": {},
     "output_type": "display_data"
    }
   ],
   "source": [
    "#C)\n",
    "set.seed(123)\n",
    "tune <- tune(svm, mpglevel ~ ., data = Auto, kernel = \"polynomial\", ranges = list(cost = c(0.01, 0.1, 1, 5, 10, 100), degree = c(2, 3, 4)))\n",
    "summary(tune)"
   ]
  },
  {
   "cell_type": "code",
   "execution_count": null,
   "metadata": {},
   "outputs": [],
   "source": [
    "#D)"
   ]
  },
  {
   "cell_type": "code",
   "execution_count": 36,
   "metadata": {},
   "outputs": [],
   "source": [
    "#Exercise 8, Chapter 9\n",
    "#A)\n",
    "set.seed(123)\n",
    "tr <- sample(nrow(OJ), 800)\n",
    "OJ_train <- OJ[tr, ]\n",
    "OJ_test <- OJ[-tr, ]"
   ]
  },
  {
   "cell_type": "code",
   "execution_count": 37,
   "metadata": {},
   "outputs": [
    {
     "ename": "ERROR",
     "evalue": "Error in eval(expr, p): object 'OJ.train' not found\n",
     "output_type": "error",
     "traceback": [
      "Error in eval(expr, p): object 'OJ.train' not found\nTraceback:\n",
      "1. svm(Purchase ~ ., data = OJ.train, kernel = \"linear\", cost = 0.01)",
      "2. svm.formula(Purchase ~ ., data = OJ.train, kernel = \"linear\", \n .     cost = 0.01)",
      "3. eval.parent(m$data)",
      "4. eval(expr, p)",
      "5. eval(expr, p)"
     ]
    }
   ],
   "source": [
    "#B)\n",
    "linear <- svm(Purchase ~ ., data = OJ.train, kernel = \"linear\", cost = 0.01)\n",
    "summary(linear)"
   ]
  },
  {
   "cell_type": "code",
   "execution_count": 38,
   "metadata": {},
   "outputs": [
    {
     "ename": "ERROR",
     "evalue": "Error in predict(linear, OJ_train): object 'linear' not found\n",
     "output_type": "error",
     "traceback": [
      "Error in predict(linear, OJ_train): object 'linear' not found\nTraceback:\n",
      "1. predict(linear, OJ_train)"
     ]
    }
   ],
   "source": [
    "#C)\n",
    "pred <- predict(linear, OJ_train)\n",
    "table(OJ_train$Purchase, pred)\n",
    "\n",
    "\n",
    "pred <- predict(linear, OJ_test)\n",
    "table(OJ_test$Purchase, pred)"
   ]
  },
  {
   "cell_type": "code",
   "execution_count": null,
   "metadata": {},
   "outputs": [],
   "source": [
    "#D)"
   ]
  },
  {
   "cell_type": "code",
   "execution_count": null,
   "metadata": {},
   "outputs": [],
   "source": [
    "#E)\n"
   ]
  },
  {
   "cell_type": "code",
   "execution_count": 39,
   "metadata": {},
   "outputs": [
    {
     "data": {
      "text/plain": [
       "\n",
       "Call:\n",
       "svm(formula = Purchase ~ ., data = OJ_train, kernel = \"radial\")\n",
       "\n",
       "\n",
       "Parameters:\n",
       "   SVM-Type:  C-classification \n",
       " SVM-Kernel:  radial \n",
       "       cost:  1 \n",
       "\n",
       "Number of Support Vectors:  367\n",
       "\n",
       " ( 181 186 )\n",
       "\n",
       "\n",
       "Number of Classes:  2 \n",
       "\n",
       "Levels: \n",
       " CH MM\n",
       "\n",
       "\n"
      ]
     },
     "metadata": {},
     "output_type": "display_data"
    }
   ],
   "source": [
    "#F)\n",
    "radial <- svm(Purchase ~ ., kernel = \"radial\", data = OJ_train)\n",
    "summary(radial)"
   ]
  },
  {
   "cell_type": "code",
   "execution_count": null,
   "metadata": {},
   "outputs": [],
   "source": []
  },
  {
   "cell_type": "code",
   "execution_count": null,
   "metadata": {},
   "outputs": [],
   "source": []
  }
 ],
 "metadata": {
  "kernelspec": {
   "display_name": "R",
   "language": "R",
   "name": "ir"
  },
  "language_info": {
   "codemirror_mode": "r",
   "file_extension": ".r",
   "mimetype": "text/x-r-source",
   "name": "R",
   "pygments_lexer": "r",
   "version": "3.6.1"
  }
 },
 "nbformat": 4,
 "nbformat_minor": 2
}
